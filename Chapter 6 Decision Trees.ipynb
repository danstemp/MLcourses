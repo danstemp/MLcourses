{
 "cells": [
  {
   "cell_type": "code",
   "execution_count": 184,
   "metadata": {},
   "outputs": [],
   "source": [
    "import sklearn as sk \n",
    "import numpy as np\n",
    "import pandas as pd\n",
    "import tensorflow as tf\n",
    "import itertools\n",
    "import matplotlib.pyplot as plt\n",
    "\n",
    "%matplotlib inline\n"
   ]
  },
  {
   "cell_type": "code",
   "execution_count": 7,
   "metadata": {},
   "outputs": [],
   "source": [
    "from sklearn.datasets import load_iris\n",
    "from sklearn.tree import DecisionTreeClassifier"
   ]
  },
  {
   "cell_type": "code",
   "execution_count": 8,
   "metadata": {},
   "outputs": [],
   "source": [
    "iris = load_iris()"
   ]
  },
  {
   "cell_type": "code",
   "execution_count": 9,
   "metadata": {},
   "outputs": [],
   "source": [
    "X = iris.data[:,2:] #petal length and width\n",
    "y = iris.target"
   ]
  },
  {
   "cell_type": "code",
   "execution_count": 10,
   "metadata": {},
   "outputs": [
    {
     "data": {
      "text/plain": [
       "DecisionTreeClassifier(class_weight=None, criterion='gini', max_depth=3,\n",
       "            max_features=None, max_leaf_nodes=None,\n",
       "            min_impurity_decrease=0.0, min_impurity_split=None,\n",
       "            min_samples_leaf=1, min_samples_split=2,\n",
       "            min_weight_fraction_leaf=0.0, presort=False, random_state=None,\n",
       "            splitter='best')"
      ]
     },
     "execution_count": 10,
     "metadata": {},
     "output_type": "execute_result"
    }
   ],
   "source": [
    "tree_clf = DecisionTreeClassifier(\n",
    "    max_depth=3\n",
    "    #min_samples_split=10\n",
    "    )\n",
    "tree_clf.fit(X,y)"
   ]
  },
  {
   "cell_type": "code",
   "execution_count": 11,
   "metadata": {},
   "outputs": [],
   "source": []
  },
  {
   "cell_type": "code",
   "execution_count": 12,
   "metadata": {},
   "outputs": [],
   "source": []
  },
  {
   "cell_type": "code",
   "execution_count": 13,
   "metadata": {},
   "outputs": [
    {
     "name": "stdout",
     "output_type": "stream",
     "text": [
      "Warning: Could not load \"/home/ec2-user/anaconda3/envs/tf+sklearn_p36/lib/graphviz/libgvplugin_pango.so.6\" - file not found\r\n"
     ]
    }
   ],
   "source": []
  },
  {
   "cell_type": "code",
   "execution_count": 14,
   "metadata": {},
   "outputs": [
    {
     "data": {
      "text/plain": [
       "array([[0.        , 0.33333333, 0.66666667]])"
      ]
     },
     "execution_count": 14,
     "metadata": {},
     "output_type": "execute_result"
    }
   ],
   "source": [
    "tree_clf.predict_proba([[5,1.5]])"
   ]
  },
  {
   "cell_type": "code",
   "execution_count": 15,
   "metadata": {},
   "outputs": [
    {
     "data": {
      "text/plain": [
       "array([2])"
      ]
     },
     "execution_count": 15,
     "metadata": {},
     "output_type": "execute_result"
    }
   ],
   "source": [
    "tree_clf.predict([[5,1.5]])"
   ]
  },
  {
   "cell_type": "code",
   "execution_count": 190,
   "metadata": {},
   "outputs": [],
   "source": [
    "def draw_tree_decision_boundary(clf, X, y, feature_names=None, class_names=None):\n",
    "\n",
    "    import numpy as np\n",
    "    import matplotlib.pyplot as plt\n",
    "    import itertools\n",
    "    \n",
    "    \n",
    "    # Parameters\n",
    "    n_classes = len(np.unique(y))\n",
    "    plot_colors = \"rby\"\n",
    "    plot_step = 0.02\n",
    "    class_pairs = list(itertools.combinations(np.unique(y),2))\n",
    "    plot_rows = int(np.ceil(len(class_pairs)/3))\n",
    "    \n",
    "    n_features_pairs = list(itertools.combinations(range(X.shape[1]),2))\n",
    "    plot_cols = int(min(len(n_features_pairs),3))\n",
    "    \n",
    "    \n",
    "    if feature_names is None:\n",
    "        feature_names = ['x{}'.format(n) for n in range(1,clf.n_features_+1)]\n",
    "\n",
    "    if class_names is None:\n",
    "        class_names = ['y{}'.format(n) for n in range(1,clf.n_classes_+1)]\n",
    "\n",
    "    \n",
    "    for pairidx, pair in enumerate(n_features_pairs):\n",
    "        # We only take the two corresponding features\n",
    "        P = X[:, list(pair)]\n",
    "        \n",
    "        \n",
    "        # Plot the decision boundary\n",
    "        row = int(np.floor(pairidx/plot_cols))\n",
    "        col = int(pairidx % plot_cols)\n",
    "        ax = plt.subplot2grid((plot_rows, plot_cols), (row,col), aspect='equal')\n",
    "\n",
    "        x_min, x_max = P[:, 0].min() - 1, P[:, 0].max() + 1\n",
    "        y_min, y_max = P[:, 1].min() - 1, P[:, 1].max() + 1\n",
    "        xx, yy = np.meshgrid(np.arange(x_min, x_max, plot_step),\n",
    "                             np.arange(y_min, y_max, plot_step))\n",
    "        #plt.tight_layout(h_pad=0.5, w_pad=0.5, pad=2.5)\n",
    "\n",
    "        Z = clf.predict(np.c_[xx.ravel(), yy.ravel()])\n",
    "        Z = Z.reshape(xx.shape)\n",
    "        cs = plt.contourf(xx, yy, Z, cmap=plt.cm.RdYlBu)\n",
    "\n",
    "        plt.xlabel(feature_names[pair[0]])\n",
    "        plt.ylabel(feature_names[pair[1]])\n",
    "        #ax.set_aspect('equal')\n",
    "        #ax.set(adjustable='box', aspect='equal')\n",
    "        \n",
    "        # Plot the training points\n",
    "        for i, color in zip(range(n_classes), plot_colors):\n",
    "            idx = np.where(y == i)\n",
    "            plt.scatter(P[idx, 0], P[idx, 1], c=color, label=class_names[i],\n",
    "                        cmap=plt.cm.RdYlBu, edgecolor='black', s=15)\n",
    "\n",
    "    plt.suptitle(\"Decision surface of a decision tree using paired features\")\n",
    "    plt.legend(loc='best', borderpad=0, handletextpad=0)\n",
    "    #plt.axis(\"tight\")\n",
    "    \n",
    "    plt.show()\n",
    "    return plt"
   ]
  },
  {
   "cell_type": "code",
   "execution_count": 191,
   "metadata": {},
   "outputs": [
    {
     "name": "stdout",
     "output_type": "stream",
     "text": [
      "Warning: Could not load \"/home/ec2-user/anaconda3/envs/tf+sklearn_p36/lib/graphviz/libgvplugin_pango.so.6\" - file not found\r\n"
     ]
    },
    {
     "data": {
      "text/html": [
       "<?xml version=\"1.0\" encoding=\"UTF-8\" standalone=\"no\"?>\n",
       "<!DOCTYPE svg PUBLIC \"-//W3C//DTD SVG 1.1//EN\"\n",
       " \"http://www.w3.org/Graphics/SVG/1.1/DTD/svg11.dtd\">\n",
       "<!-- Generated by graphviz version 2.40.1 (20161225.0304)\n",
       " -->\n",
       "<!-- Title: Tree Pages: 1 -->\n",
       "<svg width=\"919pt\" height=\"723pt\"\n",
       " viewBox=\"0.00 0.00 919.41 723.20\" xmlns=\"http://www.w3.org/2000/svg\" xmlns:xlink=\"http://www.w3.org/1999/xlink\">\n",
       "<g id=\"graph0\" class=\"graph\" transform=\"scale(1 1) rotate(0) translate(4 719.2)\">\n",
       "<title>Tree</title>\n",
       "<polygon fill=\"#ffffff\" stroke=\"transparent\" points=\"-4,4 -4,-719.2 915.4053,-719.2 915.4053,4 -4,4\"/>\n",
       "<!-- 0 -->\n",
       "<g id=\"node1\" class=\"node\">\n",
       "<title>0</title>\n",
       "<path fill=\"transparent\" stroke=\"#000000\" d=\"M432.4701,-715.2C432.4701,-715.2 282.6133,-715.2 282.6133,-715.2 276.6133,-715.2 270.6133,-709.2 270.6133,-703.2 270.6133,-703.2 270.6133,-635.2 270.6133,-635.2 270.6133,-629.2 276.6133,-623.2 282.6133,-623.2 282.6133,-623.2 432.4701,-623.2 432.4701,-623.2 438.4701,-623.2 444.4701,-629.2 444.4701,-635.2 444.4701,-635.2 444.4701,-703.2 444.4701,-703.2 444.4701,-709.2 438.4701,-715.2 432.4701,-715.2\"/>\n",
       "<text text-anchor=\"middle\" x=\"357.5417\" y=\"-698.6\" font-family=\"Helvetica,sans-Serif\" font-size=\"14.00\" fill=\"#000000\">petal width (cm) &lt;= 0.212</text>\n",
       "<text text-anchor=\"middle\" x=\"357.5417\" y=\"-681.8\" font-family=\"Helvetica,sans-Serif\" font-size=\"14.00\" fill=\"#000000\">gini = 0.5</text>\n",
       "<text text-anchor=\"middle\" x=\"357.5417\" y=\"-665\" font-family=\"Helvetica,sans-Serif\" font-size=\"14.00\" fill=\"#000000\">samples = 100</text>\n",
       "<text text-anchor=\"middle\" x=\"357.5417\" y=\"-648.2\" font-family=\"Helvetica,sans-Serif\" font-size=\"14.00\" fill=\"#000000\">value = [50, 50]</text>\n",
       "<text text-anchor=\"middle\" x=\"357.5417\" y=\"-631.4\" font-family=\"Helvetica,sans-Serif\" font-size=\"14.00\" fill=\"#000000\">class = setosa</text>\n",
       "</g>\n",
       "<!-- 1 -->\n",
       "<g id=\"node2\" class=\"node\">\n",
       "<title>1</title>\n",
       "<path fill=\"#399de5\" fill-opacity=\"0.866667\" stroke=\"#000000\" d=\"M336.6312,-587.2C336.6312,-587.2 182.4522,-587.2 182.4522,-587.2 176.4522,-587.2 170.4522,-581.2 170.4522,-575.2 170.4522,-575.2 170.4522,-507.2 170.4522,-507.2 170.4522,-501.2 176.4522,-495.2 182.4522,-495.2 182.4522,-495.2 336.6312,-495.2 336.6312,-495.2 342.6312,-495.2 348.6312,-501.2 348.6312,-507.2 348.6312,-507.2 348.6312,-575.2 348.6312,-575.2 348.6312,-581.2 342.6312,-587.2 336.6312,-587.2\"/>\n",
       "<text text-anchor=\"middle\" x=\"259.5417\" y=\"-570.6\" font-family=\"Helvetica,sans-Serif\" font-size=\"14.00\" fill=\"#000000\">petal width (cm) &lt;= &#45;0.265</text>\n",
       "<text text-anchor=\"middle\" x=\"259.5417\" y=\"-553.8\" font-family=\"Helvetica,sans-Serif\" font-size=\"14.00\" fill=\"#000000\">gini = 0.21</text>\n",
       "<text text-anchor=\"middle\" x=\"259.5417\" y=\"-537\" font-family=\"Helvetica,sans-Serif\" font-size=\"14.00\" fill=\"#000000\">samples = 42</text>\n",
       "<text text-anchor=\"middle\" x=\"259.5417\" y=\"-520.2\" font-family=\"Helvetica,sans-Serif\" font-size=\"14.00\" fill=\"#000000\">value = [5, 37]</text>\n",
       "<text text-anchor=\"middle\" x=\"259.5417\" y=\"-503.4\" font-family=\"Helvetica,sans-Serif\" font-size=\"14.00\" fill=\"#000000\">class = versicolor</text>\n",
       "</g>\n",
       "<!-- 0&#45;&gt;1 -->\n",
       "<g id=\"edge1\" class=\"edge\">\n",
       "<title>0&#45;&gt;1</title>\n",
       "<path fill=\"none\" stroke=\"#000000\" d=\"M322.1615,-622.9891C315.2919,-614.0166 308.0344,-604.5375 300.9903,-595.3369\"/>\n",
       "<polygon fill=\"#000000\" stroke=\"#000000\" points=\"303.7282,-593.1555 294.87,-587.3431 298.1701,-597.4109 303.7282,-593.1555\"/>\n",
       "<text text-anchor=\"middle\" x=\"291.5803\" y=\"-607.9257\" font-family=\"Helvetica,sans-Serif\" font-size=\"14.00\" fill=\"#000000\">True</text>\n",
       "</g>\n",
       "<!-- 8 -->\n",
       "<g id=\"node9\" class=\"node\">\n",
       "<title>8</title>\n",
       "<path fill=\"#e58139\" fill-opacity=\"0.709804\" stroke=\"#000000\" d=\"M573.4291,-587.2C573.4291,-587.2 417.6543,-587.2 417.6543,-587.2 411.6543,-587.2 405.6543,-581.2 405.6543,-575.2 405.6543,-575.2 405.6543,-507.2 405.6543,-507.2 405.6543,-501.2 411.6543,-495.2 417.6543,-495.2 417.6543,-495.2 573.4291,-495.2 573.4291,-495.2 579.4291,-495.2 585.4291,-501.2 585.4291,-507.2 585.4291,-507.2 585.4291,-575.2 585.4291,-575.2 585.4291,-581.2 579.4291,-587.2 573.4291,-587.2\"/>\n",
       "<text text-anchor=\"middle\" x=\"495.5417\" y=\"-570.6\" font-family=\"Helvetica,sans-Serif\" font-size=\"14.00\" fill=\"#000000\">petal length (cm) &lt;= 1.166</text>\n",
       "<text text-anchor=\"middle\" x=\"495.5417\" y=\"-553.8\" font-family=\"Helvetica,sans-Serif\" font-size=\"14.00\" fill=\"#000000\">gini = 0.348</text>\n",
       "<text text-anchor=\"middle\" x=\"495.5417\" y=\"-537\" font-family=\"Helvetica,sans-Serif\" font-size=\"14.00\" fill=\"#000000\">samples = 58</text>\n",
       "<text text-anchor=\"middle\" x=\"495.5417\" y=\"-520.2\" font-family=\"Helvetica,sans-Serif\" font-size=\"14.00\" fill=\"#000000\">value = [45, 13]</text>\n",
       "<text text-anchor=\"middle\" x=\"495.5417\" y=\"-503.4\" font-family=\"Helvetica,sans-Serif\" font-size=\"14.00\" fill=\"#000000\">class = setosa</text>\n",
       "</g>\n",
       "<!-- 0&#45;&gt;8 -->\n",
       "<g id=\"edge8\" class=\"edge\">\n",
       "<title>0&#45;&gt;8</title>\n",
       "<path fill=\"none\" stroke=\"#000000\" d=\"M407.3629,-622.9891C417.4271,-613.6541 428.0827,-603.7706 438.3761,-594.2231\"/>\n",
       "<polygon fill=\"#000000\" stroke=\"#000000\" points=\"440.8421,-596.7097 445.7937,-587.3431 436.0818,-591.5775 440.8421,-596.7097\"/>\n",
       "<text text-anchor=\"middle\" x=\"444.8545\" y=\"-608.1255\" font-family=\"Helvetica,sans-Serif\" font-size=\"14.00\" fill=\"#000000\">False</text>\n",
       "</g>\n",
       "<!-- 2 -->\n",
       "<g id=\"node3\" class=\"node\">\n",
       "<title>2</title>\n",
       "<path fill=\"#399de5\" stroke=\"#000000\" d=\"M140.2692,-450.9003C140.2692,-450.9003 40.8142,-450.9003 40.8142,-450.9003 34.8142,-450.9003 28.8142,-444.9003 28.8142,-438.9003 28.8142,-438.9003 28.8142,-387.4997 28.8142,-387.4997 28.8142,-381.4997 34.8142,-375.4997 40.8142,-375.4997 40.8142,-375.4997 140.2692,-375.4997 140.2692,-375.4997 146.2692,-375.4997 152.2692,-381.4997 152.2692,-387.4997 152.2692,-387.4997 152.2692,-438.9003 152.2692,-438.9003 152.2692,-444.9003 146.2692,-450.9003 140.2692,-450.9003\"/>\n",
       "<text text-anchor=\"middle\" x=\"90.5417\" y=\"-434.2\" font-family=\"Helvetica,sans-Serif\" font-size=\"14.00\" fill=\"#000000\">gini = 0.0</text>\n",
       "<text text-anchor=\"middle\" x=\"90.5417\" y=\"-417.4\" font-family=\"Helvetica,sans-Serif\" font-size=\"14.00\" fill=\"#000000\">samples = 23</text>\n",
       "<text text-anchor=\"middle\" x=\"90.5417\" y=\"-400.6\" font-family=\"Helvetica,sans-Serif\" font-size=\"14.00\" fill=\"#000000\">value = [0, 23]</text>\n",
       "<text text-anchor=\"middle\" x=\"90.5417\" y=\"-383.8\" font-family=\"Helvetica,sans-Serif\" font-size=\"14.00\" fill=\"#000000\">class = versicolor</text>\n",
       "</g>\n",
       "<!-- 1&#45;&gt;2 -->\n",
       "<g id=\"edge2\" class=\"edge\">\n",
       "<title>1&#45;&gt;2</title>\n",
       "<path fill=\"none\" stroke=\"#000000\" d=\"M198.5288,-494.9891C182.2653,-482.6711 164.7408,-469.3981 148.6384,-457.2022\"/>\n",
       "<polygon fill=\"#000000\" stroke=\"#000000\" points=\"150.4465,-454.1811 140.3617,-450.9335 146.2201,-459.7613 150.4465,-454.1811\"/>\n",
       "</g>\n",
       "<!-- 3 -->\n",
       "<g id=\"node4\" class=\"node\">\n",
       "<title>3</title>\n",
       "<path fill=\"#399de5\" fill-opacity=\"0.643137\" stroke=\"#000000\" d=\"M336.6312,-459.2C336.6312,-459.2 182.4522,-459.2 182.4522,-459.2 176.4522,-459.2 170.4522,-453.2 170.4522,-447.2 170.4522,-447.2 170.4522,-379.2 170.4522,-379.2 170.4522,-373.2 176.4522,-367.2 182.4522,-367.2 182.4522,-367.2 336.6312,-367.2 336.6312,-367.2 342.6312,-367.2 348.6312,-373.2 348.6312,-379.2 348.6312,-379.2 348.6312,-447.2 348.6312,-447.2 348.6312,-453.2 342.6312,-459.2 336.6312,-459.2\"/>\n",
       "<text text-anchor=\"middle\" x=\"259.5417\" y=\"-442.6\" font-family=\"Helvetica,sans-Serif\" font-size=\"14.00\" fill=\"#000000\">petal width (cm) &lt;= &#45;0.036</text>\n",
       "<text text-anchor=\"middle\" x=\"259.5417\" y=\"-425.8\" font-family=\"Helvetica,sans-Serif\" font-size=\"14.00\" fill=\"#000000\">gini = 0.388</text>\n",
       "<text text-anchor=\"middle\" x=\"259.5417\" y=\"-409\" font-family=\"Helvetica,sans-Serif\" font-size=\"14.00\" fill=\"#000000\">samples = 19</text>\n",
       "<text text-anchor=\"middle\" x=\"259.5417\" y=\"-392.2\" font-family=\"Helvetica,sans-Serif\" font-size=\"14.00\" fill=\"#000000\">value = [5, 14]</text>\n",
       "<text text-anchor=\"middle\" x=\"259.5417\" y=\"-375.4\" font-family=\"Helvetica,sans-Serif\" font-size=\"14.00\" fill=\"#000000\">class = versicolor</text>\n",
       "</g>\n",
       "<!-- 1&#45;&gt;3 -->\n",
       "<g id=\"edge3\" class=\"edge\">\n",
       "<title>1&#45;&gt;3</title>\n",
       "<path fill=\"none\" stroke=\"#000000\" d=\"M259.5417,-494.9891C259.5417,-486.7417 259.5417,-478.0661 259.5417,-469.5724\"/>\n",
       "<polygon fill=\"#000000\" stroke=\"#000000\" points=\"263.0418,-469.3431 259.5417,-459.3431 256.0418,-469.3431 263.0418,-469.3431\"/>\n",
       "</g>\n",
       "<!-- 4 -->\n",
       "<g id=\"node5\" class=\"node\">\n",
       "<title>4</title>\n",
       "<path fill=\"#399de5\" fill-opacity=\"0.164706\" stroke=\"#000000\" d=\"M167.3636,-331.2C167.3636,-331.2 27.7198,-331.2 27.7198,-331.2 21.7198,-331.2 15.7198,-325.2 15.7198,-319.2 15.7198,-319.2 15.7198,-251.2 15.7198,-251.2 15.7198,-245.2 21.7198,-239.2 27.7198,-239.2 27.7198,-239.2 167.3636,-239.2 167.3636,-239.2 173.3636,-239.2 179.3636,-245.2 179.3636,-251.2 179.3636,-251.2 179.3636,-319.2 179.3636,-319.2 179.3636,-325.2 173.3636,-331.2 167.3636,-331.2\"/>\n",
       "<text text-anchor=\"middle\" x=\"97.5417\" y=\"-314.6\" font-family=\"Helvetica,sans-Serif\" font-size=\"14.00\" fill=\"#000000\">petal length (cm) &lt;= 0.2</text>\n",
       "<text text-anchor=\"middle\" x=\"97.5417\" y=\"-297.8\" font-family=\"Helvetica,sans-Serif\" font-size=\"14.00\" fill=\"#000000\">gini = 0.496</text>\n",
       "<text text-anchor=\"middle\" x=\"97.5417\" y=\"-281\" font-family=\"Helvetica,sans-Serif\" font-size=\"14.00\" fill=\"#000000\">samples = 11</text>\n",
       "<text text-anchor=\"middle\" x=\"97.5417\" y=\"-264.2\" font-family=\"Helvetica,sans-Serif\" font-size=\"14.00\" fill=\"#000000\">value = [5, 6]</text>\n",
       "<text text-anchor=\"middle\" x=\"97.5417\" y=\"-247.4\" font-family=\"Helvetica,sans-Serif\" font-size=\"14.00\" fill=\"#000000\">class = versicolor</text>\n",
       "</g>\n",
       "<!-- 3&#45;&gt;4 -->\n",
       "<g id=\"edge4\" class=\"edge\">\n",
       "<title>3&#45;&gt;4</title>\n",
       "<path fill=\"none\" stroke=\"#000000\" d=\"M201.056,-366.9891C189.012,-357.4728 176.2466,-347.3866 163.9457,-337.6674\"/>\n",
       "<polygon fill=\"#000000\" stroke=\"#000000\" points=\"165.9578,-334.7965 155.9416,-331.3431 161.6181,-340.289 165.9578,-334.7965\"/>\n",
       "</g>\n",
       "<!-- 7 -->\n",
       "<g id=\"node8\" class=\"node\">\n",
       "<title>7</title>\n",
       "<path fill=\"#399de5\" stroke=\"#000000\" d=\"M309.2692,-322.9003C309.2692,-322.9003 209.8142,-322.9003 209.8142,-322.9003 203.8142,-322.9003 197.8142,-316.9003 197.8142,-310.9003 197.8142,-310.9003 197.8142,-259.4997 197.8142,-259.4997 197.8142,-253.4997 203.8142,-247.4997 209.8142,-247.4997 209.8142,-247.4997 309.2692,-247.4997 309.2692,-247.4997 315.2692,-247.4997 321.2692,-253.4997 321.2692,-259.4997 321.2692,-259.4997 321.2692,-310.9003 321.2692,-310.9003 321.2692,-316.9003 315.2692,-322.9003 309.2692,-322.9003\"/>\n",
       "<text text-anchor=\"middle\" x=\"259.5417\" y=\"-306.2\" font-family=\"Helvetica,sans-Serif\" font-size=\"14.00\" fill=\"#000000\">gini = 0.0</text>\n",
       "<text text-anchor=\"middle\" x=\"259.5417\" y=\"-289.4\" font-family=\"Helvetica,sans-Serif\" font-size=\"14.00\" fill=\"#000000\">samples = 8</text>\n",
       "<text text-anchor=\"middle\" x=\"259.5417\" y=\"-272.6\" font-family=\"Helvetica,sans-Serif\" font-size=\"14.00\" fill=\"#000000\">value = [0, 8]</text>\n",
       "<text text-anchor=\"middle\" x=\"259.5417\" y=\"-255.8\" font-family=\"Helvetica,sans-Serif\" font-size=\"14.00\" fill=\"#000000\">class = versicolor</text>\n",
       "</g>\n",
       "<!-- 3&#45;&gt;7 -->\n",
       "<g id=\"edge7\" class=\"edge\">\n",
       "<title>3&#45;&gt;7</title>\n",
       "<path fill=\"none\" stroke=\"#000000\" d=\"M259.5417,-366.9891C259.5417,-356.0272 259.5417,-344.309 259.5417,-333.2667\"/>\n",
       "<polygon fill=\"#000000\" stroke=\"#000000\" points=\"263.0418,-332.9335 259.5417,-322.9335 256.0418,-332.9335 263.0418,-332.9335\"/>\n",
       "</g>\n",
       "<!-- 5 -->\n",
       "<g id=\"node6\" class=\"node\">\n",
       "<title>5</title>\n",
       "<path fill=\"#e58139\" fill-opacity=\"0.666667\" stroke=\"#000000\" d=\"M93.1251,-194.9003C93.1251,-194.9003 11.9583,-194.9003 11.9583,-194.9003 5.9583,-194.9003 -.0417,-188.9003 -.0417,-182.9003 -.0417,-182.9003 -.0417,-131.4997 -.0417,-131.4997 -.0417,-125.4997 5.9583,-119.4997 11.9583,-119.4997 11.9583,-119.4997 93.1251,-119.4997 93.1251,-119.4997 99.1251,-119.4997 105.1251,-125.4997 105.1251,-131.4997 105.1251,-131.4997 105.1251,-182.9003 105.1251,-182.9003 105.1251,-188.9003 99.1251,-194.9003 93.1251,-194.9003\"/>\n",
       "<text text-anchor=\"middle\" x=\"52.5417\" y=\"-178.2\" font-family=\"Helvetica,sans-Serif\" font-size=\"14.00\" fill=\"#000000\">gini = 0.375</text>\n",
       "<text text-anchor=\"middle\" x=\"52.5417\" y=\"-161.4\" font-family=\"Helvetica,sans-Serif\" font-size=\"14.00\" fill=\"#000000\">samples = 4</text>\n",
       "<text text-anchor=\"middle\" x=\"52.5417\" y=\"-144.6\" font-family=\"Helvetica,sans-Serif\" font-size=\"14.00\" fill=\"#000000\">value = [3, 1]</text>\n",
       "<text text-anchor=\"middle\" x=\"52.5417\" y=\"-127.8\" font-family=\"Helvetica,sans-Serif\" font-size=\"14.00\" fill=\"#000000\">class = setosa</text>\n",
       "</g>\n",
       "<!-- 4&#45;&gt;5 -->\n",
       "<g id=\"edge5\" class=\"edge\">\n",
       "<title>4&#45;&gt;5</title>\n",
       "<path fill=\"none\" stroke=\"#000000\" d=\"M81.2957,-238.9891C77.3624,-227.8012 73.1522,-215.8255 69.2003,-204.5845\"/>\n",
       "<polygon fill=\"#000000\" stroke=\"#000000\" points=\"72.426,-203.2066 65.8074,-194.9335 65.8222,-205.5283 72.426,-203.2066\"/>\n",
       "</g>\n",
       "<!-- 6 -->\n",
       "<g id=\"node7\" class=\"node\">\n",
       "<title>6</title>\n",
       "<path fill=\"#399de5\" fill-opacity=\"0.600000\" stroke=\"#000000\" d=\"M234.2692,-194.9003C234.2692,-194.9003 134.8142,-194.9003 134.8142,-194.9003 128.8142,-194.9003 122.8142,-188.9003 122.8142,-182.9003 122.8142,-182.9003 122.8142,-131.4997 122.8142,-131.4997 122.8142,-125.4997 128.8142,-119.4997 134.8142,-119.4997 134.8142,-119.4997 234.2692,-119.4997 234.2692,-119.4997 240.2692,-119.4997 246.2692,-125.4997 246.2692,-131.4997 246.2692,-131.4997 246.2692,-182.9003 246.2692,-182.9003 246.2692,-188.9003 240.2692,-194.9003 234.2692,-194.9003\"/>\n",
       "<text text-anchor=\"middle\" x=\"184.5417\" y=\"-178.2\" font-family=\"Helvetica,sans-Serif\" font-size=\"14.00\" fill=\"#000000\">gini = 0.408</text>\n",
       "<text text-anchor=\"middle\" x=\"184.5417\" y=\"-161.4\" font-family=\"Helvetica,sans-Serif\" font-size=\"14.00\" fill=\"#000000\">samples = 7</text>\n",
       "<text text-anchor=\"middle\" x=\"184.5417\" y=\"-144.6\" font-family=\"Helvetica,sans-Serif\" font-size=\"14.00\" fill=\"#000000\">value = [2, 5]</text>\n",
       "<text text-anchor=\"middle\" x=\"184.5417\" y=\"-127.8\" font-family=\"Helvetica,sans-Serif\" font-size=\"14.00\" fill=\"#000000\">class = versicolor</text>\n",
       "</g>\n",
       "<!-- 4&#45;&gt;6 -->\n",
       "<g id=\"edge6\" class=\"edge\">\n",
       "<title>4&#45;&gt;6</title>\n",
       "<path fill=\"none\" stroke=\"#000000\" d=\"M128.9507,-238.9891C136.8622,-227.3492 145.3533,-214.8565 153.2586,-203.2257\"/>\n",
       "<polygon fill=\"#000000\" stroke=\"#000000\" points=\"156.168,-205.1715 158.8947,-194.9335 150.3787,-201.2365 156.168,-205.1715\"/>\n",
       "</g>\n",
       "<!-- 9 -->\n",
       "<g id=\"node10\" class=\"node\">\n",
       "<title>9</title>\n",
       "<path fill=\"#e58139\" fill-opacity=\"0.882353\" stroke=\"#000000\" d=\"M566.6876,-459.2C566.6876,-459.2 424.3958,-459.2 424.3958,-459.2 418.3958,-459.2 412.3958,-453.2 412.3958,-447.2 412.3958,-447.2 412.3958,-379.2 412.3958,-379.2 412.3958,-373.2 418.3958,-367.2 424.3958,-367.2 424.3958,-367.2 566.6876,-367.2 566.6876,-367.2 572.6876,-367.2 578.6876,-373.2 578.6876,-379.2 578.6876,-379.2 578.6876,-447.2 578.6876,-447.2 578.6876,-453.2 572.6876,-459.2 566.6876,-459.2\"/>\n",
       "<text text-anchor=\"middle\" x=\"495.5417\" y=\"-442.6\" font-family=\"Helvetica,sans-Serif\" font-size=\"14.00\" fill=\"#000000\">petal width (cm) &lt;= 0.58</text>\n",
       "<text text-anchor=\"middle\" x=\"495.5417\" y=\"-425.8\" font-family=\"Helvetica,sans-Serif\" font-size=\"14.00\" fill=\"#000000\">gini = 0.19</text>\n",
       "<text text-anchor=\"middle\" x=\"495.5417\" y=\"-409\" font-family=\"Helvetica,sans-Serif\" font-size=\"14.00\" fill=\"#000000\">samples = 47</text>\n",
       "<text text-anchor=\"middle\" x=\"495.5417\" y=\"-392.2\" font-family=\"Helvetica,sans-Serif\" font-size=\"14.00\" fill=\"#000000\">value = [42, 5]</text>\n",
       "<text text-anchor=\"middle\" x=\"495.5417\" y=\"-375.4\" font-family=\"Helvetica,sans-Serif\" font-size=\"14.00\" fill=\"#000000\">class = setosa</text>\n",
       "</g>\n",
       "<!-- 8&#45;&gt;9 -->\n",
       "<g id=\"edge9\" class=\"edge\">\n",
       "<title>8&#45;&gt;9</title>\n",
       "<path fill=\"none\" stroke=\"#000000\" d=\"M495.5417,-494.9891C495.5417,-486.7417 495.5417,-478.0661 495.5417,-469.5724\"/>\n",
       "<polygon fill=\"#000000\" stroke=\"#000000\" points=\"499.0418,-469.3431 495.5417,-459.3431 492.0418,-469.3431 499.0418,-469.3431\"/>\n",
       "</g>\n",
       "<!-- 16 -->\n",
       "<g id=\"node17\" class=\"node\">\n",
       "<title>16</title>\n",
       "<path fill=\"#399de5\" fill-opacity=\"0.623529\" stroke=\"#000000\" d=\"M787.3636,-459.2C787.3636,-459.2 647.7198,-459.2 647.7198,-459.2 641.7198,-459.2 635.7198,-453.2 635.7198,-447.2 635.7198,-447.2 635.7198,-379.2 635.7198,-379.2 635.7198,-373.2 641.7198,-367.2 647.7198,-367.2 647.7198,-367.2 787.3636,-367.2 787.3636,-367.2 793.3636,-367.2 799.3636,-373.2 799.3636,-379.2 799.3636,-379.2 799.3636,-447.2 799.3636,-447.2 799.3636,-453.2 793.3636,-459.2 787.3636,-459.2\"/>\n",
       "<text text-anchor=\"middle\" x=\"717.5417\" y=\"-442.6\" font-family=\"Helvetica,sans-Serif\" font-size=\"14.00\" fill=\"#000000\">petal length (cm) &lt;= 1.9</text>\n",
       "<text text-anchor=\"middle\" x=\"717.5417\" y=\"-425.8\" font-family=\"Helvetica,sans-Serif\" font-size=\"14.00\" fill=\"#000000\">gini = 0.397</text>\n",
       "<text text-anchor=\"middle\" x=\"717.5417\" y=\"-409\" font-family=\"Helvetica,sans-Serif\" font-size=\"14.00\" fill=\"#000000\">samples = 11</text>\n",
       "<text text-anchor=\"middle\" x=\"717.5417\" y=\"-392.2\" font-family=\"Helvetica,sans-Serif\" font-size=\"14.00\" fill=\"#000000\">value = [3, 8]</text>\n",
       "<text text-anchor=\"middle\" x=\"717.5417\" y=\"-375.4\" font-family=\"Helvetica,sans-Serif\" font-size=\"14.00\" fill=\"#000000\">class = versicolor</text>\n",
       "</g>\n",
       "<!-- 8&#45;&gt;16 -->\n",
       "<g id=\"edge16\" class=\"edge\">\n",
       "<title>8&#45;&gt;16</title>\n",
       "<path fill=\"none\" stroke=\"#000000\" d=\"M575.3752,-495.1699C592.6296,-485.2214 610.9773,-474.6425 628.5574,-464.5062\"/>\n",
       "<polygon fill=\"#000000\" stroke=\"#000000\" points=\"630.756,-467.2788 637.6709,-459.2516 627.2595,-461.2145 630.756,-467.2788\"/>\n",
       "</g>\n",
       "<!-- 10 -->\n",
       "<g id=\"node11\" class=\"node\">\n",
       "<title>10</title>\n",
       "<path fill=\"#e58139\" fill-opacity=\"0.545098\" stroke=\"#000000\" d=\"M511.5893,-331.2C511.5893,-331.2 351.4941,-331.2 351.4941,-331.2 345.4941,-331.2 339.4941,-325.2 339.4941,-319.2 339.4941,-319.2 339.4941,-251.2 339.4941,-251.2 339.4941,-245.2 345.4941,-239.2 351.4941,-239.2 351.4941,-239.2 511.5893,-239.2 511.5893,-239.2 517.5893,-239.2 523.5893,-245.2 523.5893,-251.2 523.5893,-251.2 523.5893,-319.2 523.5893,-319.2 523.5893,-325.2 517.5893,-331.2 511.5893,-331.2\"/>\n",
       "<text text-anchor=\"middle\" x=\"431.5417\" y=\"-314.6\" font-family=\"Helvetica,sans-Serif\" font-size=\"14.00\" fill=\"#000000\">petal length (cm) &lt;= &#45;0.285</text>\n",
       "<text text-anchor=\"middle\" x=\"431.5417\" y=\"-297.8\" font-family=\"Helvetica,sans-Serif\" font-size=\"14.00\" fill=\"#000000\">gini = 0.43</text>\n",
       "<text text-anchor=\"middle\" x=\"431.5417\" y=\"-281\" font-family=\"Helvetica,sans-Serif\" font-size=\"14.00\" fill=\"#000000\">samples = 16</text>\n",
       "<text text-anchor=\"middle\" x=\"431.5417\" y=\"-264.2\" font-family=\"Helvetica,sans-Serif\" font-size=\"14.00\" fill=\"#000000\">value = [11, 5]</text>\n",
       "<text text-anchor=\"middle\" x=\"431.5417\" y=\"-247.4\" font-family=\"Helvetica,sans-Serif\" font-size=\"14.00\" fill=\"#000000\">class = setosa</text>\n",
       "</g>\n",
       "<!-- 9&#45;&gt;10 -->\n",
       "<g id=\"edge10\" class=\"edge\">\n",
       "<title>9&#45;&gt;10</title>\n",
       "<path fill=\"none\" stroke=\"#000000\" d=\"M472.4362,-366.9891C468.1313,-358.3791 463.593,-349.3026 459.1684,-340.4535\"/>\n",
       "<polygon fill=\"#000000\" stroke=\"#000000\" points=\"462.2159,-338.7221 454.6133,-331.3431 455.9549,-341.8527 462.2159,-338.7221\"/>\n",
       "</g>\n",
       "<!-- 15 -->\n",
       "<g id=\"node16\" class=\"node\">\n",
       "<title>15</title>\n",
       "<path fill=\"#e58139\" stroke=\"#000000\" d=\"M635.1251,-322.9003C635.1251,-322.9003 553.9583,-322.9003 553.9583,-322.9003 547.9583,-322.9003 541.9583,-316.9003 541.9583,-310.9003 541.9583,-310.9003 541.9583,-259.4997 541.9583,-259.4997 541.9583,-253.4997 547.9583,-247.4997 553.9583,-247.4997 553.9583,-247.4997 635.1251,-247.4997 635.1251,-247.4997 641.1251,-247.4997 647.1251,-253.4997 647.1251,-259.4997 647.1251,-259.4997 647.1251,-310.9003 647.1251,-310.9003 647.1251,-316.9003 641.1251,-322.9003 635.1251,-322.9003\"/>\n",
       "<text text-anchor=\"middle\" x=\"594.5417\" y=\"-306.2\" font-family=\"Helvetica,sans-Serif\" font-size=\"14.00\" fill=\"#000000\">gini = 0.0</text>\n",
       "<text text-anchor=\"middle\" x=\"594.5417\" y=\"-289.4\" font-family=\"Helvetica,sans-Serif\" font-size=\"14.00\" fill=\"#000000\">samples = 31</text>\n",
       "<text text-anchor=\"middle\" x=\"594.5417\" y=\"-272.6\" font-family=\"Helvetica,sans-Serif\" font-size=\"14.00\" fill=\"#000000\">value = [31, 0]</text>\n",
       "<text text-anchor=\"middle\" x=\"594.5417\" y=\"-255.8\" font-family=\"Helvetica,sans-Serif\" font-size=\"14.00\" fill=\"#000000\">class = setosa</text>\n",
       "</g>\n",
       "<!-- 9&#45;&gt;15 -->\n",
       "<g id=\"edge15\" class=\"edge\">\n",
       "<title>9&#45;&gt;15</title>\n",
       "<path fill=\"none\" stroke=\"#000000\" d=\"M531.283,-366.9891C540.3731,-355.2362 550.1357,-342.6138 559.2055,-330.8872\"/>\n",
       "<polygon fill=\"#000000\" stroke=\"#000000\" points=\"562.0077,-332.985 565.3572,-322.9335 556.4706,-328.7023 562.0077,-332.985\"/>\n",
       "</g>\n",
       "<!-- 11 -->\n",
       "<g id=\"node12\" class=\"node\">\n",
       "<title>11</title>\n",
       "<path fill=\"#e58139\" stroke=\"#000000\" d=\"M414.1251,-194.9003C414.1251,-194.9003 332.9583,-194.9003 332.9583,-194.9003 326.9583,-194.9003 320.9583,-188.9003 320.9583,-182.9003 320.9583,-182.9003 320.9583,-131.4997 320.9583,-131.4997 320.9583,-125.4997 326.9583,-119.4997 332.9583,-119.4997 332.9583,-119.4997 414.1251,-119.4997 414.1251,-119.4997 420.1251,-119.4997 426.1251,-125.4997 426.1251,-131.4997 426.1251,-131.4997 426.1251,-182.9003 426.1251,-182.9003 426.1251,-188.9003 420.1251,-194.9003 414.1251,-194.9003\"/>\n",
       "<text text-anchor=\"middle\" x=\"373.5417\" y=\"-178.2\" font-family=\"Helvetica,sans-Serif\" font-size=\"14.00\" fill=\"#000000\">gini = 0.0</text>\n",
       "<text text-anchor=\"middle\" x=\"373.5417\" y=\"-161.4\" font-family=\"Helvetica,sans-Serif\" font-size=\"14.00\" fill=\"#000000\">samples = 6</text>\n",
       "<text text-anchor=\"middle\" x=\"373.5417\" y=\"-144.6\" font-family=\"Helvetica,sans-Serif\" font-size=\"14.00\" fill=\"#000000\">value = [6, 0]</text>\n",
       "<text text-anchor=\"middle\" x=\"373.5417\" y=\"-127.8\" font-family=\"Helvetica,sans-Serif\" font-size=\"14.00\" fill=\"#000000\">class = setosa</text>\n",
       "</g>\n",
       "<!-- 10&#45;&gt;11 -->\n",
       "<g id=\"edge11\" class=\"edge\">\n",
       "<title>10&#45;&gt;11</title>\n",
       "<path fill=\"none\" stroke=\"#000000\" d=\"M410.6024,-238.9891C405.4817,-227.6882 399.9967,-215.5835 394.8586,-204.2441\"/>\n",
       "<polygon fill=\"#000000\" stroke=\"#000000\" points=\"397.955,-202.5975 390.6397,-194.9335 391.5791,-205.4866 397.955,-202.5975\"/>\n",
       "</g>\n",
       "<!-- 12 -->\n",
       "<g id=\"node13\" class=\"node\">\n",
       "<title>12</title>\n",
       "<path fill=\"transparent\" stroke=\"#000000\" d=\"M611.4291,-203.2C611.4291,-203.2 455.6543,-203.2 455.6543,-203.2 449.6543,-203.2 443.6543,-197.2 443.6543,-191.2 443.6543,-191.2 443.6543,-123.2 443.6543,-123.2 443.6543,-117.2 449.6543,-111.2 455.6543,-111.2 455.6543,-111.2 611.4291,-111.2 611.4291,-111.2 617.4291,-111.2 623.4291,-117.2 623.4291,-123.2 623.4291,-123.2 623.4291,-191.2 623.4291,-191.2 623.4291,-197.2 617.4291,-203.2 611.4291,-203.2\"/>\n",
       "<text text-anchor=\"middle\" x=\"533.5417\" y=\"-186.6\" font-family=\"Helvetica,sans-Serif\" font-size=\"14.00\" fill=\"#000000\">petal length (cm) &lt;= 0.164</text>\n",
       "<text text-anchor=\"middle\" x=\"533.5417\" y=\"-169.8\" font-family=\"Helvetica,sans-Serif\" font-size=\"14.00\" fill=\"#000000\">gini = 0.5</text>\n",
       "<text text-anchor=\"middle\" x=\"533.5417\" y=\"-153\" font-family=\"Helvetica,sans-Serif\" font-size=\"14.00\" fill=\"#000000\">samples = 10</text>\n",
       "<text text-anchor=\"middle\" x=\"533.5417\" y=\"-136.2\" font-family=\"Helvetica,sans-Serif\" font-size=\"14.00\" fill=\"#000000\">value = [5, 5]</text>\n",
       "<text text-anchor=\"middle\" x=\"533.5417\" y=\"-119.4\" font-family=\"Helvetica,sans-Serif\" font-size=\"14.00\" fill=\"#000000\">class = setosa</text>\n",
       "</g>\n",
       "<!-- 10&#45;&gt;12 -->\n",
       "<g id=\"edge12\" class=\"edge\">\n",
       "<title>10&#45;&gt;12</title>\n",
       "<path fill=\"none\" stroke=\"#000000\" d=\"M468.366,-238.9891C475.516,-230.0166 483.0697,-220.5375 490.4013,-211.3369\"/>\n",
       "<polygon fill=\"#000000\" stroke=\"#000000\" points=\"493.2766,-213.3449 496.7714,-203.3431 487.8021,-208.9825 493.2766,-213.3449\"/>\n",
       "</g>\n",
       "<!-- 13 -->\n",
       "<g id=\"node14\" class=\"node\">\n",
       "<title>13</title>\n",
       "<path fill=\"#399de5\" stroke=\"#000000\" d=\"M517.2692,-75.3003C517.2692,-75.3003 417.8142,-75.3003 417.8142,-75.3003 411.8142,-75.3003 405.8142,-69.3003 405.8142,-63.3003 405.8142,-63.3003 405.8142,-11.8997 405.8142,-11.8997 405.8142,-5.8997 411.8142,.1003 417.8142,.1003 417.8142,.1003 517.2692,.1003 517.2692,.1003 523.2692,.1003 529.2692,-5.8997 529.2692,-11.8997 529.2692,-11.8997 529.2692,-63.3003 529.2692,-63.3003 529.2692,-69.3003 523.2692,-75.3003 517.2692,-75.3003\"/>\n",
       "<text text-anchor=\"middle\" x=\"467.5417\" y=\"-58.6\" font-family=\"Helvetica,sans-Serif\" font-size=\"14.00\" fill=\"#000000\">gini = 0.0</text>\n",
       "<text text-anchor=\"middle\" x=\"467.5417\" y=\"-41.8\" font-family=\"Helvetica,sans-Serif\" font-size=\"14.00\" fill=\"#000000\">samples = 4</text>\n",
       "<text text-anchor=\"middle\" x=\"467.5417\" y=\"-25\" font-family=\"Helvetica,sans-Serif\" font-size=\"14.00\" fill=\"#000000\">value = [0, 4]</text>\n",
       "<text text-anchor=\"middle\" x=\"467.5417\" y=\"-8.2\" font-family=\"Helvetica,sans-Serif\" font-size=\"14.00\" fill=\"#000000\">class = versicolor</text>\n",
       "</g>\n",
       "<!-- 12&#45;&gt;13 -->\n",
       "<g id=\"edge13\" class=\"edge\">\n",
       "<title>12&#45;&gt;13</title>\n",
       "<path fill=\"none\" stroke=\"#000000\" d=\"M508.0244,-110.9595C503.1784,-102.178 498.1051,-92.9846 493.2531,-84.1922\"/>\n",
       "<polygon fill=\"#000000\" stroke=\"#000000\" points=\"496.1917,-82.2731 488.2957,-75.2088 490.063,-85.6552 496.1917,-82.2731\"/>\n",
       "</g>\n",
       "<!-- 14 -->\n",
       "<g id=\"node15\" class=\"node\">\n",
       "<title>14</title>\n",
       "<path fill=\"#e58139\" fill-opacity=\"0.800000\" stroke=\"#000000\" d=\"M640.1251,-75.3003C640.1251,-75.3003 558.9583,-75.3003 558.9583,-75.3003 552.9583,-75.3003 546.9583,-69.3003 546.9583,-63.3003 546.9583,-63.3003 546.9583,-11.8997 546.9583,-11.8997 546.9583,-5.8997 552.9583,.1003 558.9583,.1003 558.9583,.1003 640.1251,.1003 640.1251,.1003 646.1251,.1003 652.1251,-5.8997 652.1251,-11.8997 652.1251,-11.8997 652.1251,-63.3003 652.1251,-63.3003 652.1251,-69.3003 646.1251,-75.3003 640.1251,-75.3003\"/>\n",
       "<text text-anchor=\"middle\" x=\"599.5417\" y=\"-58.6\" font-family=\"Helvetica,sans-Serif\" font-size=\"14.00\" fill=\"#000000\">gini = 0.278</text>\n",
       "<text text-anchor=\"middle\" x=\"599.5417\" y=\"-41.8\" font-family=\"Helvetica,sans-Serif\" font-size=\"14.00\" fill=\"#000000\">samples = 6</text>\n",
       "<text text-anchor=\"middle\" x=\"599.5417\" y=\"-25\" font-family=\"Helvetica,sans-Serif\" font-size=\"14.00\" fill=\"#000000\">value = [5, 1]</text>\n",
       "<text text-anchor=\"middle\" x=\"599.5417\" y=\"-8.2\" font-family=\"Helvetica,sans-Serif\" font-size=\"14.00\" fill=\"#000000\">class = setosa</text>\n",
       "</g>\n",
       "<!-- 12&#45;&gt;14 -->\n",
       "<g id=\"edge14\" class=\"edge\">\n",
       "<title>12&#45;&gt;14</title>\n",
       "<path fill=\"none\" stroke=\"#000000\" d=\"M559.059,-110.9595C563.905,-102.178 568.9783,-92.9846 573.8303,-84.1922\"/>\n",
       "<polygon fill=\"#000000\" stroke=\"#000000\" points=\"577.0204,-85.6552 578.7877,-75.2088 570.8917,-82.2731 577.0204,-85.6552\"/>\n",
       "</g>\n",
       "<!-- 17 -->\n",
       "<g id=\"node18\" class=\"node\">\n",
       "<title>17</title>\n",
       "<path fill=\"transparent\" stroke=\"#000000\" d=\"M758.1251,-322.9003C758.1251,-322.9003 676.9583,-322.9003 676.9583,-322.9003 670.9583,-322.9003 664.9583,-316.9003 664.9583,-310.9003 664.9583,-310.9003 664.9583,-259.4997 664.9583,-259.4997 664.9583,-253.4997 670.9583,-247.4997 676.9583,-247.4997 676.9583,-247.4997 758.1251,-247.4997 758.1251,-247.4997 764.1251,-247.4997 770.1251,-253.4997 770.1251,-259.4997 770.1251,-259.4997 770.1251,-310.9003 770.1251,-310.9003 770.1251,-316.9003 764.1251,-322.9003 758.1251,-322.9003\"/>\n",
       "<text text-anchor=\"middle\" x=\"717.5417\" y=\"-306.2\" font-family=\"Helvetica,sans-Serif\" font-size=\"14.00\" fill=\"#000000\">gini = 0.5</text>\n",
       "<text text-anchor=\"middle\" x=\"717.5417\" y=\"-289.4\" font-family=\"Helvetica,sans-Serif\" font-size=\"14.00\" fill=\"#000000\">samples = 6</text>\n",
       "<text text-anchor=\"middle\" x=\"717.5417\" y=\"-272.6\" font-family=\"Helvetica,sans-Serif\" font-size=\"14.00\" fill=\"#000000\">value = [3, 3]</text>\n",
       "<text text-anchor=\"middle\" x=\"717.5417\" y=\"-255.8\" font-family=\"Helvetica,sans-Serif\" font-size=\"14.00\" fill=\"#000000\">class = setosa</text>\n",
       "</g>\n",
       "<!-- 16&#45;&gt;17 -->\n",
       "<g id=\"edge17\" class=\"edge\">\n",
       "<title>16&#45;&gt;17</title>\n",
       "<path fill=\"none\" stroke=\"#000000\" d=\"M717.5417,-366.9891C717.5417,-356.0272 717.5417,-344.309 717.5417,-333.2667\"/>\n",
       "<polygon fill=\"#000000\" stroke=\"#000000\" points=\"721.0418,-332.9335 717.5417,-322.9335 714.0418,-332.9335 721.0418,-332.9335\"/>\n",
       "</g>\n",
       "<!-- 18 -->\n",
       "<g id=\"node19\" class=\"node\">\n",
       "<title>18</title>\n",
       "<path fill=\"#399de5\" stroke=\"#000000\" d=\"M899.2692,-322.9003C899.2692,-322.9003 799.8142,-322.9003 799.8142,-322.9003 793.8142,-322.9003 787.8142,-316.9003 787.8142,-310.9003 787.8142,-310.9003 787.8142,-259.4997 787.8142,-259.4997 787.8142,-253.4997 793.8142,-247.4997 799.8142,-247.4997 799.8142,-247.4997 899.2692,-247.4997 899.2692,-247.4997 905.2692,-247.4997 911.2692,-253.4997 911.2692,-259.4997 911.2692,-259.4997 911.2692,-310.9003 911.2692,-310.9003 911.2692,-316.9003 905.2692,-322.9003 899.2692,-322.9003\"/>\n",
       "<text text-anchor=\"middle\" x=\"849.5417\" y=\"-306.2\" font-family=\"Helvetica,sans-Serif\" font-size=\"14.00\" fill=\"#000000\">gini = 0.0</text>\n",
       "<text text-anchor=\"middle\" x=\"849.5417\" y=\"-289.4\" font-family=\"Helvetica,sans-Serif\" font-size=\"14.00\" fill=\"#000000\">samples = 5</text>\n",
       "<text text-anchor=\"middle\" x=\"849.5417\" y=\"-272.6\" font-family=\"Helvetica,sans-Serif\" font-size=\"14.00\" fill=\"#000000\">value = [0, 5]</text>\n",
       "<text text-anchor=\"middle\" x=\"849.5417\" y=\"-255.8\" font-family=\"Helvetica,sans-Serif\" font-size=\"14.00\" fill=\"#000000\">class = versicolor</text>\n",
       "</g>\n",
       "<!-- 16&#45;&gt;18 -->\n",
       "<g id=\"edge18\" class=\"edge\">\n",
       "<title>16&#45;&gt;18</title>\n",
       "<path fill=\"none\" stroke=\"#000000\" d=\"M765.1967,-366.9891C777.55,-355.0101 790.8347,-342.128 803.1234,-330.2116\"/>\n",
       "<polygon fill=\"#000000\" stroke=\"#000000\" points=\"805.8865,-332.4076 810.629,-322.9335 801.0135,-327.3823 805.8865,-332.4076\"/>\n",
       "</g>\n",
       "</g>\n",
       "</svg>\n"
      ],
      "text/plain": [
       "<IPython.core.display.HTML object>"
      ]
     },
     "execution_count": 191,
     "metadata": {},
     "output_type": "execute_result"
    }
   ],
   "source": [
    "from sklearn.tree import export_graphviz\n",
    "export_graphviz(\n",
    "    tree_clf,\n",
    "    out_file = 'iris_tree.dot',\n",
    "    feature_names= iris.feature_names[2:],\n",
    "    class_names = iris.target_names,\n",
    "    rounded = True,\n",
    "    filled = True\n",
    "    )\n",
    "\n",
    "!command dot -Tsvg iris_tree.dot -o iris_tree.svg\n",
    "\n",
    "from IPython.display import HTML\n",
    "HTML(filename=\"./iris_tree.svg\")"
   ]
  },
  {
   "cell_type": "code",
   "execution_count": 192,
   "metadata": {},
   "outputs": [
    {
     "data": {
      "image/png": "[encoded data removed]",
      "text/plain": [
       "<Figure size 432x288 with 1 Axes>"
      ]
     },
     "metadata": {},
     "output_type": "display_data"
    },
    {
     "data": {
      "text/plain": [
       "<module 'matplotlib.pyplot' from '/home/ec2-user/anaconda3/envs/tf+sklearn_p36/lib/python3.6/site-packages/matplotlib/pyplot.py'>"
      ]
     },
     "execution_count": 192,
     "metadata": {},
     "output_type": "execute_result"
    }
   ],
   "source": [
    "feature_names= iris.feature_names[2:]\n",
    "class_names = iris.target_names\n",
    "draw_tree_decision_boundary(tree_clf,X,y, feature_names, class_names)\n"
   ]
  },
  {
   "cell_type": "code",
   "execution_count": 193,
   "metadata": {},
   "outputs": [],
   "source": [
    "from sklearn.datasets import make_moons\n",
    "X, y = make_moons(noise=0.45)"
   ]
  },
  {
   "cell_type": "code",
   "execution_count": 194,
   "metadata": {},
   "outputs": [
    {
     "data": {
      "text/plain": [
       "DecisionTreeClassifier(class_weight=None, criterion='gini', max_depth=None,\n",
       "            max_features=None, max_leaf_nodes=None,\n",
       "            min_impurity_decrease=0.0, min_impurity_split=None,\n",
       "            min_samples_leaf=4, min_samples_split=2,\n",
       "            min_weight_fraction_leaf=0.0, presort=False, random_state=None,\n",
       "            splitter='best')"
      ]
     },
     "execution_count": 194,
     "metadata": {},
     "output_type": "execute_result"
    }
   ],
   "source": [
    "tree_clf = DecisionTreeClassifier(\n",
    "    #max_depth=5\n",
    "    min_samples_leaf=4\n",
    "    )\n",
    "tree_clf.fit(X,y)"
   ]
  },
  {
   "cell_type": "code",
   "execution_count": 195,
   "metadata": {},
   "outputs": [
    {
     "data": {
      "image/png": "[encoded data removed]",
      "text/plain": [
       "<Figure size 432x288 with 1 Axes>"
      ]
     },
     "metadata": {},
     "output_type": "display_data"
    },
    {
     "data": {
      "text/plain": [
       "<module 'matplotlib.pyplot' from '/home/ec2-user/anaconda3/envs/tf+sklearn_p36/lib/python3.6/site-packages/matplotlib/pyplot.py'>"
      ]
     },
     "execution_count": 195,
     "metadata": {},
     "output_type": "execute_result"
    }
   ],
   "source": [
    "draw_tree_decision_boundary(tree_clf, X, y, ['x','y'],['red','blue'])"
   ]
  },
  {
   "cell_type": "code",
   "execution_count": 196,
   "metadata": {},
   "outputs": [
    {
     "data": {
      "text/plain": [
       "((7500, 3), (7500, 1))"
      ]
     },
     "execution_count": 196,
     "metadata": {},
     "output_type": "execute_result"
    }
   ],
   "source": [
    "def generate_data(n_points=10000, n_features=3, use_nonlinear=True, \n",
    "                    noise_std=0.1, train_test_split = 4):\n",
    "    \"\"\"\n",
    "    Arguments:\n",
    "    n_points - number of data points to generate\n",
    "    n_features - a positive integer - number of features\n",
    "    use_nonlinear - if True, generate non-linear data\n",
    "    train_test_split - an integer - what portion of data to use for testing\n",
    "    \n",
    "    Return:\n",
    "    X_train, Y_train, X_test, Y_test, n_train, n_features\n",
    "    \"\"\"\n",
    "    # Linear data or non-linear data?\n",
    "    if use_nonlinear:\n",
    "        weights = np.array([[1.0, 0.5, 0.2],[0.5, 0.3, 0.15]], dtype=np.float32)\n",
    "    else:\n",
    "        weights = np.array([1.0, 0.5, 0.2], dtype=np.float32)\n",
    "        \n",
    "    bias = np.ones(n_points).reshape((-1,1))\n",
    "    low = - np.ones((n_points,n_features), dtype=np.float32)\n",
    "    high = np.ones((n_points,n_features), dtype=np.float32)\n",
    "    \n",
    "    X = np.random.uniform(low=low, high=high)\n",
    "    noise = np.random.normal(size=(n_points, 1))\n",
    "    noise_std = 0.1\n",
    "    \n",
    "    if use_nonlinear:\n",
    "        Y = (weights[0,0] * bias + np.dot(X, weights[0, :]).reshape((-1,1)) + \n",
    "             np.dot(X*X, weights[1, :]).reshape([-1,1]) +\n",
    "             noise_std * noise)\n",
    "    else:\n",
    "        Y = (weights[0] * bias + np.dot(X, weights[:]).reshape((-1,1)) + \n",
    "             noise_std * noise)\n",
    "    \n",
    "    n_test = int(n_points/train_test_split)\n",
    "    n_train = n_points - n_test\n",
    "    \n",
    "    X_train = X[:n_train,:]\n",
    "    Y_train = Y[:n_train].reshape((-1,1))\n",
    "\n",
    "    X_test = X[n_train:,:]\n",
    "    Y_test = Y[n_train:].reshape((-1,1))\n",
    "    \n",
    "    return X_train, Y_train, X_test, Y_test, n_train, n_features\n",
    "\n",
    "X_train, y_train, X_test, y_test, n_train, n_features = generate_data(use_nonlinear=False)\n",
    "X_train.shape, y_train.shape"
   ]
  },
  {
   "cell_type": "code",
   "execution_count": 197,
   "metadata": {},
   "outputs": [],
   "source": [
    "from sklearn.tree import DecisionTreeRegressor"
   ]
  },
  {
   "cell_type": "code",
   "execution_count": 198,
   "metadata": {},
   "outputs": [
    {
     "data": {
      "text/plain": [
       "DecisionTreeRegressor(criterion='mse', max_depth=2, max_features=None,\n",
       "           max_leaf_nodes=None, min_impurity_decrease=0.0,\n",
       "           min_impurity_split=None, min_samples_leaf=1,\n",
       "           min_samples_split=2, min_weight_fraction_leaf=0.0,\n",
       "           presort=False, random_state=None, splitter='best')"
      ]
     },
     "execution_count": 198,
     "metadata": {},
     "output_type": "execute_result"
    }
   ],
   "source": [
    "tree_reg = DecisionTreeRegressor (max_depth = 2)\n",
    "tree_reg.fit(X_train, y_train)"
   ]
  },
  {
   "cell_type": "code",
   "execution_count": 178,
   "metadata": {},
   "outputs": [],
   "source": [
    "def draw_tree_diagram(clf, feature_names=None, class_names=None):\n",
    "\n",
    "    if feature_names == None:\n",
    "        feature_names = ['x{}'.format(n) for n in range(1,clf.n_features_+1)]\n",
    "\n",
    "    if class_names == None:\n",
    "        class_names = ['y{}'.format(n) for n in range(1,clf.n_classes_+1)]\n",
    "\n",
    "    from sklearn.tree import export_graphviz\n",
    "    export_graphviz(\n",
    "        tree_reg,\n",
    "        out_file = 'tmp.dot',\n",
    "        feature_names= feature_names,\n",
    "        class_names = class_names,\n",
    "        rounded = True,\n",
    "        filled = True\n",
    "        )\n",
    "\n",
    "    !command dot -Tsvg tmp.dot -o tmp.svg\n",
    "\n",
    "    from IPython.display import HTML\n",
    "    return HTML(filename=\"./tmp.svg\")"
   ]
  },
  {
   "cell_type": "code",
   "execution_count": 179,
   "metadata": {},
   "outputs": [
    {
     "name": "stdout",
     "output_type": "stream",
     "text": [
      "Warning: Could not load \"/home/ec2-user/anaconda3/envs/tf+sklearn_p36/lib/graphviz/libgvplugin_pango.so.6\" - file not found\r\n"
     ]
    },
    {
     "data": {
      "text/html": [
       "<?xml version=\"1.0\" encoding=\"UTF-8\" standalone=\"no\"?>\n",
       "<!DOCTYPE svg PUBLIC \"-//W3C//DTD SVG 1.1//EN\"\n",
       " \"http://www.w3.org/Graphics/SVG/1.1/DTD/svg11.dtd\">\n",
       "<!-- Generated by graphviz version 2.40.1 (20161225.0304)\n",
       " -->\n",
       "<!-- Title: Tree Pages: 1 -->\n",
       "<svg width=\"522pt\" height=\"289pt\"\n",
       " viewBox=\"0.00 0.00 522.20 288.80\" xmlns=\"http://www.w3.org/2000/svg\" xmlns:xlink=\"http://www.w3.org/1999/xlink\">\n",
       "<g id=\"graph0\" class=\"graph\" transform=\"scale(1 1) rotate(0) translate(4 284.8)\">\n",
       "<title>Tree</title>\n",
       "<polygon fill=\"#ffffff\" stroke=\"transparent\" points=\"-4,4 -4,-284.8 518.2012,-284.8 518.2012,4 -4,4\"/>\n",
       "<!-- 0 -->\n",
       "<g id=\"node1\" class=\"node\">\n",
       "<title>0</title>\n",
       "<path fill=\"#e58139\" fill-opacity=\"0.494118\" stroke=\"#000000\" d=\"M302.302,-280.9003C302.302,-280.9003 210.8992,-280.9003 210.8992,-280.9003 204.8992,-280.9003 198.8992,-274.9003 198.8992,-268.9003 198.8992,-268.9003 198.8992,-217.4997 198.8992,-217.4997 198.8992,-211.4997 204.8992,-205.4997 210.8992,-205.4997 210.8992,-205.4997 302.302,-205.4997 302.302,-205.4997 308.302,-205.4997 314.302,-211.4997 314.302,-217.4997 314.302,-217.4997 314.302,-268.9003 314.302,-268.9003 314.302,-274.9003 308.302,-280.9003 302.302,-280.9003\"/>\n",
       "<text text-anchor=\"middle\" x=\"256.6006\" y=\"-264.2\" font-family=\"Helvetica,sans-Serif\" font-size=\"14.00\" fill=\"#000000\">x1 &lt;= &#45;0.038</text>\n",
       "<text text-anchor=\"middle\" x=\"256.6006\" y=\"-247.4\" font-family=\"Helvetica,sans-Serif\" font-size=\"14.00\" fill=\"#000000\">mse = 0.444</text>\n",
       "<text text-anchor=\"middle\" x=\"256.6006\" y=\"-230.6\" font-family=\"Helvetica,sans-Serif\" font-size=\"14.00\" fill=\"#000000\">samples = 7500</text>\n",
       "<text text-anchor=\"middle\" x=\"256.6006\" y=\"-213.8\" font-family=\"Helvetica,sans-Serif\" font-size=\"14.00\" fill=\"#000000\">value = 0.997</text>\n",
       "</g>\n",
       "<!-- 1 -->\n",
       "<g id=\"node2\" class=\"node\">\n",
       "<title>1</title>\n",
       "<path fill=\"#e58139\" fill-opacity=\"0.145098\" stroke=\"#000000\" d=\"M236.302,-169.7003C236.302,-169.7003 144.8992,-169.7003 144.8992,-169.7003 138.8992,-169.7003 132.8992,-163.7003 132.8992,-157.7003 132.8992,-157.7003 132.8992,-106.2997 132.8992,-106.2997 132.8992,-100.2997 138.8992,-94.2997 144.8992,-94.2997 144.8992,-94.2997 236.302,-94.2997 236.302,-94.2997 242.302,-94.2997 248.302,-100.2997 248.302,-106.2997 248.302,-106.2997 248.302,-157.7003 248.302,-157.7003 248.302,-163.7003 242.302,-169.7003 236.302,-169.7003\"/>\n",
       "<text text-anchor=\"middle\" x=\"190.6006\" y=\"-153\" font-family=\"Helvetica,sans-Serif\" font-size=\"14.00\" fill=\"#000000\">x2 &lt;= 0.115</text>\n",
       "<text text-anchor=\"middle\" x=\"190.6006\" y=\"-136.2\" font-family=\"Helvetica,sans-Serif\" font-size=\"14.00\" fill=\"#000000\">mse = 0.18</text>\n",
       "<text text-anchor=\"middle\" x=\"190.6006\" y=\"-119.4\" font-family=\"Helvetica,sans-Serif\" font-size=\"14.00\" fill=\"#000000\">samples = 3679</text>\n",
       "<text text-anchor=\"middle\" x=\"190.6006\" y=\"-102.6\" font-family=\"Helvetica,sans-Serif\" font-size=\"14.00\" fill=\"#000000\">value = 0.481</text>\n",
       "</g>\n",
       "<!-- 0&#45;&gt;1 -->\n",
       "<g id=\"edge1\" class=\"edge\">\n",
       "<title>0&#45;&gt;1</title>\n",
       "<path fill=\"none\" stroke=\"#000000\" d=\"M234.256,-205.5528C229.0953,-196.8577 223.545,-187.5064 218.1902,-178.4843\"/>\n",
       "<polygon fill=\"#000000\" stroke=\"#000000\" points=\"221.036,-176.4215 212.9222,-169.6085 215.0164,-179.9943 221.036,-176.4215\"/>\n",
       "<text text-anchor=\"middle\" x=\"206.7431\" y=\"-189.6328\" font-family=\"Helvetica,sans-Serif\" font-size=\"14.00\" fill=\"#000000\">True</text>\n",
       "</g>\n",
       "<!-- 4 -->\n",
       "<g id=\"node5\" class=\"node\">\n",
       "<title>4</title>\n",
       "<path fill=\"#e58139\" fill-opacity=\"0.827451\" stroke=\"#000000\" d=\"M369.302,-169.7003C369.302,-169.7003 277.8992,-169.7003 277.8992,-169.7003 271.8992,-169.7003 265.8992,-163.7003 265.8992,-157.7003 265.8992,-157.7003 265.8992,-106.2997 265.8992,-106.2997 265.8992,-100.2997 271.8992,-94.2997 277.8992,-94.2997 277.8992,-94.2997 369.302,-94.2997 369.302,-94.2997 375.302,-94.2997 381.302,-100.2997 381.302,-106.2997 381.302,-106.2997 381.302,-157.7003 381.302,-157.7003 381.302,-163.7003 375.302,-169.7003 369.302,-169.7003\"/>\n",
       "<text text-anchor=\"middle\" x=\"323.6006\" y=\"-153\" font-family=\"Helvetica,sans-Serif\" font-size=\"14.00\" fill=\"#000000\">x1 &lt;= 0.473</text>\n",
       "<text text-anchor=\"middle\" x=\"323.6006\" y=\"-136.2\" font-family=\"Helvetica,sans-Serif\" font-size=\"14.00\" fill=\"#000000\">mse = 0.195</text>\n",
       "<text text-anchor=\"middle\" x=\"323.6006\" y=\"-119.4\" font-family=\"Helvetica,sans-Serif\" font-size=\"14.00\" fill=\"#000000\">samples = 3821</text>\n",
       "<text text-anchor=\"middle\" x=\"323.6006\" y=\"-102.6\" font-family=\"Helvetica,sans-Serif\" font-size=\"14.00\" fill=\"#000000\">value = 1.494</text>\n",
       "</g>\n",
       "<!-- 0&#45;&gt;4 -->\n",
       "<g id=\"edge4\" class=\"edge\">\n",
       "<title>0&#45;&gt;4</title>\n",
       "<path fill=\"none\" stroke=\"#000000\" d=\"M279.2837,-205.5528C284.5773,-196.7671 290.2744,-187.3115 295.7628,-178.2025\"/>\n",
       "<polygon fill=\"#000000\" stroke=\"#000000\" points=\"298.7779,-179.9802 300.9408,-169.6085 292.7821,-176.3676 298.7779,-179.9802\"/>\n",
       "<text text-anchor=\"middle\" x=\"306.9593\" y=\"-189.6732\" font-family=\"Helvetica,sans-Serif\" font-size=\"14.00\" fill=\"#000000\">False</text>\n",
       "</g>\n",
       "<!-- 2 -->\n",
       "<g id=\"node3\" class=\"node\">\n",
       "<title>2</title>\n",
       "<path fill=\"transparent\" stroke=\"#000000\" d=\"M103.302,-58.6014C103.302,-58.6014 11.8992,-58.6014 11.8992,-58.6014 5.8992,-58.6014 -.1008,-52.6014 -.1008,-46.6014 -.1008,-46.6014 -.1008,-11.7986 -.1008,-11.7986 -.1008,-5.7986 5.8992,.2014 11.8992,.2014 11.8992,.2014 103.302,.2014 103.302,.2014 109.302,.2014 115.302,-5.7986 115.302,-11.7986 115.302,-11.7986 115.302,-46.6014 115.302,-46.6014 115.302,-52.6014 109.302,-58.6014 103.302,-58.6014\"/>\n",
       "<text text-anchor=\"middle\" x=\"57.6006\" y=\"-41.8\" font-family=\"Helvetica,sans-Serif\" font-size=\"14.00\" fill=\"#000000\">mse = 0.125</text>\n",
       "<text text-anchor=\"middle\" x=\"57.6006\" y=\"-25\" font-family=\"Helvetica,sans-Serif\" font-size=\"14.00\" fill=\"#000000\">samples = 2077</text>\n",
       "<text text-anchor=\"middle\" x=\"57.6006\" y=\"-8.2\" font-family=\"Helvetica,sans-Serif\" font-size=\"14.00\" fill=\"#000000\">value = 0.267</text>\n",
       "</g>\n",
       "<!-- 1&#45;&gt;2 -->\n",
       "<g id=\"edge2\" class=\"edge\">\n",
       "<title>1&#45;&gt;2</title>\n",
       "<path fill=\"none\" stroke=\"#000000\" d=\"M141.8315,-94.3048C129.3035,-84.6215 115.8698,-74.2382 103.4929,-64.6717\"/>\n",
       "<polygon fill=\"#000000\" stroke=\"#000000\" points=\"105.5848,-61.8649 95.5323,-58.5186 101.3039,-67.4034 105.5848,-61.8649\"/>\n",
       "</g>\n",
       "<!-- 3 -->\n",
       "<g id=\"node4\" class=\"node\">\n",
       "<title>3</title>\n",
       "<path fill=\"#e58139\" fill-opacity=\"0.333333\" stroke=\"#000000\" d=\"M236.302,-58.6014C236.302,-58.6014 144.8992,-58.6014 144.8992,-58.6014 138.8992,-58.6014 132.8992,-52.6014 132.8992,-46.6014 132.8992,-46.6014 132.8992,-11.7986 132.8992,-11.7986 132.8992,-5.7986 138.8992,.2014 144.8992,.2014 144.8992,.2014 236.302,.2014 236.302,.2014 242.302,.2014 248.302,-5.7986 248.302,-11.7986 248.302,-11.7986 248.302,-46.6014 248.302,-46.6014 248.302,-52.6014 242.302,-58.6014 236.302,-58.6014\"/>\n",
       "<text text-anchor=\"middle\" x=\"190.6006\" y=\"-41.8\" font-family=\"Helvetica,sans-Serif\" font-size=\"14.00\" fill=\"#000000\">mse = 0.114</text>\n",
       "<text text-anchor=\"middle\" x=\"190.6006\" y=\"-25\" font-family=\"Helvetica,sans-Serif\" font-size=\"14.00\" fill=\"#000000\">samples = 1602</text>\n",
       "<text text-anchor=\"middle\" x=\"190.6006\" y=\"-8.2\" font-family=\"Helvetica,sans-Serif\" font-size=\"14.00\" fill=\"#000000\">value = 0.759</text>\n",
       "</g>\n",
       "<!-- 1&#45;&gt;3 -->\n",
       "<g id=\"edge3\" class=\"edge\">\n",
       "<title>1&#45;&gt;3</title>\n",
       "<path fill=\"none\" stroke=\"#000000\" d=\"M190.6006,-94.3048C190.6006,-85.9126 190.6006,-76.9946 190.6006,-68.5382\"/>\n",
       "<polygon fill=\"#000000\" stroke=\"#000000\" points=\"194.1007,-68.5186 190.6006,-58.5186 187.1007,-68.5187 194.1007,-68.5186\"/>\n",
       "</g>\n",
       "<!-- 5 -->\n",
       "<g id=\"node6\" class=\"node\">\n",
       "<title>5</title>\n",
       "<path fill=\"#e58139\" fill-opacity=\"0.643137\" stroke=\"#000000\" d=\"M369.302,-58.6014C369.302,-58.6014 277.8992,-58.6014 277.8992,-58.6014 271.8992,-58.6014 265.8992,-52.6014 265.8992,-46.6014 265.8992,-46.6014 265.8992,-11.7986 265.8992,-11.7986 265.8992,-5.7986 271.8992,.2014 277.8992,.2014 277.8992,.2014 369.302,.2014 369.302,.2014 375.302,.2014 381.302,-5.7986 381.302,-11.7986 381.302,-11.7986 381.302,-46.6014 381.302,-46.6014 381.302,-52.6014 375.302,-58.6014 369.302,-58.6014\"/>\n",
       "<text text-anchor=\"middle\" x=\"323.6006\" y=\"-41.8\" font-family=\"Helvetica,sans-Serif\" font-size=\"14.00\" fill=\"#000000\">mse = 0.122</text>\n",
       "<text text-anchor=\"middle\" x=\"323.6006\" y=\"-25\" font-family=\"Helvetica,sans-Serif\" font-size=\"14.00\" fill=\"#000000\">samples = 1833</text>\n",
       "<text text-anchor=\"middle\" x=\"323.6006\" y=\"-8.2\" font-family=\"Helvetica,sans-Serif\" font-size=\"14.00\" fill=\"#000000\">value = 1.219</text>\n",
       "</g>\n",
       "<!-- 4&#45;&gt;5 -->\n",
       "<g id=\"edge5\" class=\"edge\">\n",
       "<title>4&#45;&gt;5</title>\n",
       "<path fill=\"none\" stroke=\"#000000\" d=\"M323.6006,-94.3048C323.6006,-85.9126 323.6006,-76.9946 323.6006,-68.5382\"/>\n",
       "<polygon fill=\"#000000\" stroke=\"#000000\" points=\"327.1007,-68.5186 323.6006,-58.5186 320.1007,-68.5187 327.1007,-68.5186\"/>\n",
       "</g>\n",
       "<!-- 6 -->\n",
       "<g id=\"node7\" class=\"node\">\n",
       "<title>6</title>\n",
       "<path fill=\"#e58139\" stroke=\"#000000\" d=\"M502.302,-58.6014C502.302,-58.6014 410.8992,-58.6014 410.8992,-58.6014 404.8992,-58.6014 398.8992,-52.6014 398.8992,-46.6014 398.8992,-46.6014 398.8992,-11.7986 398.8992,-11.7986 398.8992,-5.7986 404.8992,.2014 410.8992,.2014 410.8992,.2014 502.302,.2014 502.302,.2014 508.302,.2014 514.302,-5.7986 514.302,-11.7986 514.302,-11.7986 514.302,-46.6014 514.302,-46.6014 514.302,-52.6014 508.302,-58.6014 502.302,-58.6014\"/>\n",
       "<text text-anchor=\"middle\" x=\"456.6006\" y=\"-41.8\" font-family=\"Helvetica,sans-Serif\" font-size=\"14.00\" fill=\"#000000\">mse = 0.129</text>\n",
       "<text text-anchor=\"middle\" x=\"456.6006\" y=\"-25\" font-family=\"Helvetica,sans-Serif\" font-size=\"14.00\" fill=\"#000000\">samples = 1988</text>\n",
       "<text text-anchor=\"middle\" x=\"456.6006\" y=\"-8.2\" font-family=\"Helvetica,sans-Serif\" font-size=\"14.00\" fill=\"#000000\">value = 1.747</text>\n",
       "</g>\n",
       "<!-- 4&#45;&gt;6 -->\n",
       "<g id=\"edge6\" class=\"edge\">\n",
       "<title>4&#45;&gt;6</title>\n",
       "<path fill=\"none\" stroke=\"#000000\" d=\"M372.3697,-94.3048C384.8977,-84.6215 398.3314,-74.2382 410.7083,-64.6717\"/>\n",
       "<polygon fill=\"#000000\" stroke=\"#000000\" points=\"412.8973,-67.4034 418.6689,-58.5186 408.6164,-61.8649 412.8973,-67.4034\"/>\n",
       "</g>\n",
       "</g>\n",
       "</svg>\n"
      ],
      "text/plain": [
       "<IPython.core.display.HTML object>"
      ]
     },
     "execution_count": 179,
     "metadata": {},
     "output_type": "execute_result"
    }
   ],
   "source": [
    "draw_tree_diagram(tree_reg)"
   ]
  },
  {
   "cell_type": "code",
   "execution_count": 189,
   "metadata": {},
   "outputs": [
    {
     "ename": "ValueError",
     "evalue": "x and y must be the same size",
     "output_type": "error",
     "traceback": [
      "\u001b[0;31m---------------------------------------------------------------------------\u001b[0m",
      "\u001b[0;31mValueError\u001b[0m                                Traceback (most recent call last)",
      "\u001b[0;32m<ipython-input-189-f33608284771>\u001b[0m in \u001b[0;36m<module>\u001b[0;34m()\u001b[0m\n\u001b[1;32m      3\u001b[0m \u001b[0max1\u001b[0m \u001b[0;34m=\u001b[0m \u001b[0mplt\u001b[0m\u001b[0;34m.\u001b[0m\u001b[0msubplot2grid\u001b[0m\u001b[0;34m(\u001b[0m\u001b[0;34m(\u001b[0m\u001b[0;36m1\u001b[0m\u001b[0;34m,\u001b[0m\u001b[0;36m1\u001b[0m\u001b[0;34m)\u001b[0m\u001b[0;34m,\u001b[0m\u001b[0;34m(\u001b[0m\u001b[0;36m0\u001b[0m\u001b[0;34m,\u001b[0m\u001b[0;36m0\u001b[0m\u001b[0;34m)\u001b[0m\u001b[0;34m,\u001b[0m \u001b[0maspect\u001b[0m\u001b[0;34m=\u001b[0m\u001b[0;34m'equal'\u001b[0m\u001b[0;34m)\u001b[0m\u001b[0;34m\u001b[0m\u001b[0m\n\u001b[1;32m      4\u001b[0m \u001b[0;34m\u001b[0m\u001b[0m\n\u001b[0;32m----> 5\u001b[0;31m \u001b[0max1\u001b[0m\u001b[0;34m.\u001b[0m\u001b[0mscatter\u001b[0m\u001b[0;34m(\u001b[0m\u001b[0mX_train\u001b[0m\u001b[0;34m,\u001b[0m \u001b[0my_train\u001b[0m\u001b[0;34m)\u001b[0m\u001b[0;34m\u001b[0m\u001b[0m\n\u001b[0m\u001b[1;32m      6\u001b[0m \u001b[0max1\u001b[0m\u001b[0;34m.\u001b[0m\u001b[0mscatter\u001b[0m\u001b[0;34m(\u001b[0m\u001b[0mX_train\u001b[0m\u001b[0;34m,\u001b[0m \u001b[0my_pred\u001b[0m\u001b[0;34m)\u001b[0m\u001b[0;34m\u001b[0m\u001b[0m\n",
      "\u001b[0;32m~/anaconda3/envs/tf+sklearn_p36/lib/python3.6/site-packages/matplotlib/__init__.py\u001b[0m in \u001b[0;36minner\u001b[0;34m(ax, *args, **kwargs)\u001b[0m\n\u001b[1;32m   1853\u001b[0m                         \u001b[0;34m\"the Matplotlib list!)\"\u001b[0m \u001b[0;34m%\u001b[0m \u001b[0;34m(\u001b[0m\u001b[0mlabel_namer\u001b[0m\u001b[0;34m,\u001b[0m \u001b[0mfunc\u001b[0m\u001b[0;34m.\u001b[0m\u001b[0m__name__\u001b[0m\u001b[0;34m)\u001b[0m\u001b[0;34m,\u001b[0m\u001b[0;34m\u001b[0m\u001b[0m\n\u001b[1;32m   1854\u001b[0m                         RuntimeWarning, stacklevel=2)\n\u001b[0;32m-> 1855\u001b[0;31m             \u001b[0;32mreturn\u001b[0m \u001b[0mfunc\u001b[0m\u001b[0;34m(\u001b[0m\u001b[0max\u001b[0m\u001b[0;34m,\u001b[0m \u001b[0;34m*\u001b[0m\u001b[0margs\u001b[0m\u001b[0;34m,\u001b[0m \u001b[0;34m**\u001b[0m\u001b[0mkwargs\u001b[0m\u001b[0;34m)\u001b[0m\u001b[0;34m\u001b[0m\u001b[0m\n\u001b[0m\u001b[1;32m   1856\u001b[0m \u001b[0;34m\u001b[0m\u001b[0m\n\u001b[1;32m   1857\u001b[0m         inner.__doc__ = _add_data_doc(inner.__doc__,\n",
      "\u001b[0;32m~/anaconda3/envs/tf+sklearn_p36/lib/python3.6/site-packages/matplotlib/axes/_axes.py\u001b[0m in \u001b[0;36mscatter\u001b[0;34m(self, x, y, s, c, marker, cmap, norm, vmin, vmax, alpha, linewidths, verts, edgecolors, **kwargs)\u001b[0m\n\u001b[1;32m   4241\u001b[0m         \u001b[0my\u001b[0m \u001b[0;34m=\u001b[0m \u001b[0mnp\u001b[0m\u001b[0;34m.\u001b[0m\u001b[0mma\u001b[0m\u001b[0;34m.\u001b[0m\u001b[0mravel\u001b[0m\u001b[0;34m(\u001b[0m\u001b[0my\u001b[0m\u001b[0;34m)\u001b[0m\u001b[0;34m\u001b[0m\u001b[0m\n\u001b[1;32m   4242\u001b[0m         \u001b[0;32mif\u001b[0m \u001b[0mx\u001b[0m\u001b[0;34m.\u001b[0m\u001b[0msize\u001b[0m \u001b[0;34m!=\u001b[0m \u001b[0my\u001b[0m\u001b[0;34m.\u001b[0m\u001b[0msize\u001b[0m\u001b[0;34m:\u001b[0m\u001b[0;34m\u001b[0m\u001b[0m\n\u001b[0;32m-> 4243\u001b[0;31m             \u001b[0;32mraise\u001b[0m \u001b[0mValueError\u001b[0m\u001b[0;34m(\u001b[0m\u001b[0;34m\"x and y must be the same size\"\u001b[0m\u001b[0;34m)\u001b[0m\u001b[0;34m\u001b[0m\u001b[0m\n\u001b[0m\u001b[1;32m   4244\u001b[0m \u001b[0;34m\u001b[0m\u001b[0m\n\u001b[1;32m   4245\u001b[0m         \u001b[0;32mif\u001b[0m \u001b[0ms\u001b[0m \u001b[0;32mis\u001b[0m \u001b[0;32mNone\u001b[0m\u001b[0;34m:\u001b[0m\u001b[0;34m\u001b[0m\u001b[0m\n",
      "\u001b[0;31mValueError\u001b[0m: x and y must be the same size"
     ]
    },
    {
     "data": {
      "image/png": "[encoded data removed]",
      "text/plain": [
       "<Figure size 432x288 with 1 Axes>"
      ]
     },
     "metadata": {},
     "output_type": "display_data"
    }
   ],
   "source": [
    "X = X[:,0]\n",
    "y_pred = tree_reg.predict(X)\n",
    "\n",
    "ax1 = plt.subplot2grid((1,1),(0,0), aspect='equal')\n",
    "\n",
    "ax1.scatter(X_train, y_train)\n",
    "ax1.scatter(X_train, y_pred)\n"
   ]
  },
  {
   "cell_type": "code",
   "execution_count": 183,
   "metadata": {},
   "outputs": [
    {
     "data": {
      "text/plain": [
       "(7500, 3)"
      ]
     },
     "execution_count": 183,
     "metadata": {},
     "output_type": "execute_result"
    }
   ],
   "source": [
    "X_train.shape"
   ]
  },
  {
   "cell_type": "code",
   "execution_count": null,
   "metadata": {},
   "outputs": [],
   "source": []
  }
 ],
 "metadata": {
  "kernelspec": {
   "display_name": "Environment (conda_tf+sklearn_p36)",
   "language": "python",
   "name": "conda_tf+sklearn_p36"
  },
  "language_info": {
   "codemirror_mode": {
    "name": "ipython",
    "version": 3
   },
   "file_extension": ".py",
   "mimetype": "text/x-python",
   "name": "python",
   "nbconvert_exporter": "python",
   "pygments_lexer": "ipython3",
   "version": "3.6.4"
  }
 },
 "nbformat": 4,
 "nbformat_minor": 2
}
